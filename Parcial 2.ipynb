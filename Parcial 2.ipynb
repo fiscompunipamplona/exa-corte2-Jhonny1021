{
 "cells": [
  {
   "cell_type": "markdown",
   "metadata": {},
   "source": [
    "# Taller Pendulo Doble\n",
    "\n",
    "(Guia y enunciado del problema)\n",
    "\n",
    "Un péndulo doble consiste en un péndulo normal con otro péndulo colgando de su extremo.  Por simplicidad, ignoremos la fricción y supongamos que ambos péndulos tienen bobinas de la misma masas m y brazos sin masa de la misma longitud l.  Por lo tanto, la configuración se ve así:\n",
    "\n",
    "<img src=\"pendulodoble.png\"> \n",
    "\n",
    "La posición de los brazos en cualquier momento en el tiempo se especifica de manera única por los dos ángulos $\\theta _{1}$ y $\\theta _{2}$. Las ecuaciones de movimiento para los ángulos se derivan más fácilmente usando el formalismo lagrangiano.\n",
    "\n",
    "Las alturas de las dos bobinas, medidas desde el nivel del pivote son:\n",
    "\n",
    "\\begin{equation}\n",
    "h_{1}=-l cos\\theta _{1}\n",
    "\\end{equation}\n",
    "\n",
    "\\begin{equation}\n",
    "h_{2}=-l \\left ( cos\\theta _{1}+cos\\theta _{2} \\right )\n",
    "\\end{equation}\n",
    "\n",
    "Entonces la energía potencial del sistema es: \n",
    "\n",
    "\\begin{equation}\n",
    "U=mgh_{1}+mgh_{2}\n",
    "\\end{equation}\n",
    "\n",
    "Sustituyendo $h_{1}$ y $h_{2}$ tenemos:\n",
    "\n",
    "\\begin{equation}\n",
    "U=-mg\\left ( lcos\\theta _{1}+lcos\\theta _{1}lcos\\theta _{2} \\right )\n",
    "\\end{equation}\n",
    "\n",
    "\\begin{equation}\n",
    "U=-mgl\\left ( 2cos\\theta _{1}+cos\\theta _{2} \\right )\n",
    "\\end{equation}\n",
    "\n",
    "Donde g es la aceleración debida a la gravedad.  (La energía potencial es negativa porque hemos elegido medirla hacia abajo desde el nivel del pivote). \n",
    "\n",
    "La energía cinética total es:\n",
    "\n",
    "\\begin{equation}\n",
    "T=\\frac{1}{2}mv_{1}^{2}+mv_{2}^{2}\n",
    "\\end{equation}\n",
    "\n",
    "Donde las velocidades $v_{1}$ y $v_{12}$ de las dos bobinas están dadas por:\n",
    "\n",
    "\\begin{equation}\n",
    "v_{1}=l\\dot{\\theta _{1}} \n",
    "\\end{equation}\n",
    "\n",
    "\\begin{equation}\n",
    "v_{2}=l\\left ( \\dot{\\theta _{1}}+ \\dot{\\theta _{2}}+2\\dot{\\theta _{1}}\\dot{\\theta _{2}}cos\\left ( \\theta _{1}-\\theta _{1} \\right ) \\right )\n",
    "\\end{equation}\n",
    "\n",
    "Por tanto:\n",
    "\n",
    "\\begin{equation}\n",
    "T=ml^{2}\\left ( \\dot{\\theta _{1}^{2}}+ \\frac{1}{2}\\dot{\\theta _{2}^{2}}+\\dot{\\theta _{1}}\\dot{\\theta _{2}}cos\\left ( \\theta _{1}-\\theta _{1} \\right ) \\right )\n",
    "\\end{equation}\n",
    "\n",
    "El lagrangiano del sistema seria:\n",
    "\n",
    "\\begin{equation}\n",
    "L=T-U\n",
    "\\end{equation}\n",
    "\n",
    "Entonces:\n",
    "\n",
    "\\begin{equation}\n",
    "L=ml^{2}\\left[ \\dot{\\theta _{1}^{2}}+ \\frac{1}{2}\\dot{\\theta _{2}^{2}}+\\dot{\\theta _{1}}\\dot{\\theta _{2}}cos\\left ( \\theta _{1}-\\theta _{1} \\right ) \\right ]+mgl\\left ( 2cos\\theta _{1}+cos\\theta _{2} \\right )\n",
    "\\end{equation}\n",
    "\n",
    "Luego, las ecuaciones de movimiento están dadas por las ecuaciones de Euler-Lagrange\n",
    "\n",
    "\\begin{equation}\n",
    "\\frac{\\partial L}{\\partial\\alpha_{1}}-\\frac{d}{dt} \\left(\\frac{\\partial L}{\\partial \\dot{\\alpha _{1}}}\\right)=0\n",
    "\\end{equation}\n",
    "\n",
    "Aplicando la ecuacion de euler lagrange para $\\theta _{1}$, tenemos:\n",
    "\n",
    "\\begin{equation}\n",
    "\\frac{\\partial L}{\\partial\\theta _{1}}-\\frac{d}{dt} \\left(\\frac{\\partial L}{\\partial \\dot{\\theta _{1}}}\\right)=0\n",
    "\\end{equation}\n",
    "\n",
    "Donde;\n",
    "\n",
    "\\begin{equation}\n",
    "\\frac{\\partial L}{\\partial\\theta _{1}}=-ml^{2}\\dot{\\theta _{1}}\\dot{\\theta _{2}}sen\\left ( \\theta _{1}-\\theta _{1} \\right )-2mgl sen\\theta _{1}\n",
    "\\end{equation}\n",
    "\n",
    "\\begin{equation}\n",
    "\\frac{\\partial L}{\\partial \\dot{\\theta _{1}}}=2ml^2\\dot{\\theta _{1}} + ml^2\\dot{\\theta _{2}}cos\\left ( \\theta _{1}-\\theta _{1} \\right ) \\, \\Rightarrow \\, \\frac{d}{dt} \\left(\\frac{\\partial L}{\\partial \\dot{\\theta _{1}}}\\right)=2ml^2\\ddot{\\theta _{1}}+ml^2\\ddot{\\theta _{1}}cos\\left ( \\theta _{1}-\\theta _{1} \\right )-ml^{2}\\dot{\\theta _{1}}sen\\left ( \\theta _{1}-\\theta _{2} \\right )\\left ( \\dot{\\theta _{1}}-\\dot{\\theta _{2}} \\right )\n",
    "\\end{equation}\n",
    "\n",
    "Asi:\n",
    "\n",
    "\\begin{equation}\n",
    "2\\ddot{\\theta _{1}}+\\ddot{\\theta _{2}} cos\\left ( \\theta _{1}-\\theta _{1} \\right )+ \\dot{\\theta _{2}^{2}}sen\\left ( \\theta _{1}-\\theta _{2} \\right )+2\\frac{g}{l}sen\\theta _{1}=0\n",
    "\\end{equation}\n",
    "\n",
    "\n",
    "aplicando la ecuación de Euler lagrange para $\\theta _{2}$:\n",
    "\n",
    "\\begin{equation}\n",
    "\\frac{\\partial L}{\\partial\\theta _{2}}-\\frac{d}{dt} \\left(\\frac{\\partial L}{\\partial \\dot{\\theta _{2}}}\\right)=0\n",
    "\\end{equation}\n",
    "\n",
    "Donde;\n",
    "\n",
    "\\begin{equation}\n",
    "\\frac{\\partial L}{\\partial\\theta _{2}}=ml^{2}\\dot{\\theta _{1}}\\dot{\\theta _{2}}sen\\left ( \\theta _{1}-\\theta _{1} \\right )-mgl cos\\theta _{2}\n",
    "\\end{equation}\n",
    "\n",
    "\\begin{equation}\n",
    "\\frac{\\partial L}{\\partial \\dot{\\theta _{1}}}=ml^2\\dot{\\theta _{2}} + ml^2\\dot{\\theta _{1}}cos\\left ( \\theta _{1}-\\theta _{1} \\right ) \\, \\Rightarrow \\, \\frac{d}{dt} \\left(\\frac{\\partial L}{\\partial \\dot{\\theta _{1}}}\\right)=ml^2\\ddot{\\theta _{2}}+ml^2\\ddot{\\theta _{1}}cos\\left ( \\theta _{1}-\\theta _{1} \\right )-ml^{2}\\dot{\\theta _{1}}sen\\left ( \\theta _{1}-\\theta _{2} \\right )\\left ( \\dot{\\theta _{1}}-\\dot{\\theta _{2}} \\right )\n",
    "\\end{equation}\n",
    "\n",
    "Asi;\n",
    "\n",
    "\\begin{equation}\n",
    "\\ddot{\\theta _{2}}+\\ddot{\\theta _{1}} cos\\left ( \\theta _{1}-\\theta _{2} \\right )+ \\dot{\\theta _{1}^{2}}sen\\left ( \\theta _{1}-\\theta _{2} \\right )+\\frac{g}{l}sen\\theta _{2}=0\n",
    "\\end{equation}\n",
    "\n",
    "Donde la masa m se ha cancelado.\n",
    "\n",
    "\n",
    "Estas son ecuaciones de segundo orden, pero podemos convertirlas en las de primer orden por el método habitual, definiendo dos nuevas variables, $ω_{1}$ y $ω _{2}$, por lo tanto:\n",
    "\n",
    "\\begin{equation}\n",
    "\\dot{\\theta _{1}}=ω_{1}\n",
    "\\end{equation}\n",
    "\n",
    "\\begin{equation}\n",
    "\\dot{\\theta _{2}}=ω_{2}\n",
    "\\end{equation}\n",
    "\n",
    "En términos de estas variables, nuestras ecuaciones de movimiento se convierten:\n",
    "\n",
    "\\begin{equation}\n",
    "2\\dot{w_{1}}+\\dot{w_{2}} cos\\left ( \\theta _{1}-\\theta _{1} \\right )+ w _{2}^{2}sen\\left ( \\theta _{1}-\\theta _{2} \\right )+2\\frac{g}{l}sen\\theta _{1}=0\n",
    "\\end{equation}\n",
    "\n",
    "\\begin{equation}\n",
    "\\dot{w _{2}}+\\dot{w _{1}} cos\\left ( \\theta _{1}-\\theta _{2} \\right )+ w_{1}^{2}sen\\left ( \\theta _{1}-\\theta _{2} \\right )+\\frac{g}{l}sen\\theta _{2}=0\n",
    "\\end{equation}\n",
    "\n",
    "Finalmente, tenemos que reorganizarlos en la forma estándar las ecuaciónes. Con una sola derivada en el lado izquierdo de cada uno, lo que nos da:\n",
    "\n",
    "\\begin{equation}\n",
    "\\dot{w_{1}}=-\\frac{w_{1}^{2}sen\\left ( 2\\theta _{1}-2\\theta _{2} \\right )+2w_{1}^{2}sen\\left ( \\theta _{1}-\\theta _{2} \\right )+\\left ( \\frac{g}{l} \\right )\\left [ sen\\left ( \\theta _{1}-2\\theta _{2} \\right )+3sen\\theta _{1} \\right ]}{3-cos\\left ( 2\\theta _{1}-2\\theta _{2} \\right )}\n",
    "\\end{equation}\n",
    "\n",
    "\\begin{equation}\n",
    "\\dot{w_{2}}=\\frac{4w_{1}^{2}sen\\left ( \\theta _{1}-\\theta _{2} \\right )+w_{1}^{2}sen\\left ( 2\\theta _{1}-2\\theta _{2} \\right )+2\\left ( \\frac{g}{l} \\right )\\left [ sen\\left ( 2\\theta _{1}-\\theta _{2} \\right )-sen\\theta _{2} \\right ]}{3-cos\\left ( 2\\theta _{1}-2\\theta _{2} \\right )}\n",
    "\\end{equation}\n",
    "\n",
    "Estas dos ecuaciones, junto con las ecuaciones $\\dot{\\theta _{1}}=ω_{1}$ y  $\\dot{\\theta _{2}}=ω_{2}$, nos dan cuatro ecuaciones de primer orden que entre ellas definen el movimiento del péndulo doble.\n"
   ]
  },
  {
   "cell_type": "markdown",
   "metadata": {},
   "source": [
    "b) Solucionando con Runge-Kutta para encontrar la energia del sistema "
   ]
  },
  {
   "cell_type": "code",
   "execution_count": 1,
   "metadata": {},
   "outputs": [
    {
     "data": {
      "text/plain": [
       "<Figure size 640x480 with 1 Axes>"
      ]
     },
     "metadata": {},
     "output_type": "display_data"
    }
   ],
   "source": [
    "from scipy import array, arange, pi, sin, cos\n",
    "from pylab import plot, show, xlabel, ylabel\n",
    "# Constante Y Condiciones\n",
    "g = 9.81  # m/s^2\n",
    "m = 1  # kg\n",
    "l = 0.4  # l del pendulo\n",
    "the1_0 = pi/2\n",
    "the2_0 = pi/2\n",
    "ome1_0 = 0\n",
    "ome2_0 = 0\n",
    "t_0 = 0\n",
    "t_f = 100\n",
    "N = 75000\n",
    "h = (t_f-t_0)/N\n",
    "#Método Runge-Kutta de cuarto orden para resolver el sistema\n",
    "\n",
    "def f(r):\n",
    "    the1 = r[0]\n",
    "    ome1 = r[1]\n",
    "    the2 = r[2]\n",
    "    ome2 = r[3]\n",
    "    f_ome1 = -(ome1**2*sin(2*the1-2*the2)+2*ome2**2*sin(the1-the2)+\\\n",
    "                  g/l*(sin(the1-2*the2)+3*sin(the1)))/(3-cos(2*the1-2*the2))\n",
    "    f_ome2 = (4*ome1**2*sin(the1-the2)+ome2**2*sin(2*the1-2*the2)+\\\n",
    "                 2*g/l*(sin(2*the1-the2)-sin(the2)))/(3-cos(2*the1-2*the2))\n",
    "    return array([ ome1, f_ome1, ome2, f_ome2], float)\n",
    "\n",
    "def energy(r):\n",
    "    the1 = r[0]\n",
    "    ome1 = r[1]\n",
    "    the2 = r[2]\n",
    "    ome2 = r[3]\n",
    "    return -m*g*l*(2*cos(the1)+cos(the2))+\\\n",
    "           m*l**2*(ome1**2+0.5*ome2**2+ome1*ome2*cos(the1-the2))\n",
    "\n",
    "\n",
    "r = array([the1_0, ome1_0, the2_0, ome2_0], float)\n",
    "tpoints = arange(t_0, t_f, h)\n",
    "the1_points = []\n",
    "the2_points = []\n",
    "energy_points = []\n",
    "for t in tpoints:\n",
    "    the1_points.append(r[0])\n",
    "    the2_points.append(r[2])\n",
    "    energy_points.append(energy(r))\n",
    "    k1 = h*f(r)\n",
    "    k2 = h*f(r+0.5*k1)\n",
    "    k3 = h*f(r+0.5*k2)\n",
    "    k4 = h*f(r+k3)\n",
    "    r += (k1+2*k2+2*k3+k4)/ 6\n",
    "\n",
    "plot(tpoints,the1_points,'b')\n",
    "plot(tpoints,the2_points, 'c')\n",
    "plot(tpoints,energy_points, 'r')\n",
    "xlabel('t (s)')\n",
    "ylabel('Energia (J)')\n",
    "show()"
   ]
  },
  {
   "cell_type": "markdown",
   "metadata": {},
   "source": [
    "Podemos concluir que la energia potencia de la particula 1 varia menos que la energia potencial de la particula 2 por que la particula 2 hace mas trabajo que la particula 1 a tener una al tener mayor por que depende de ambos sistemas."
   ]
  },
  {
   "cell_type": "markdown",
   "metadata": {},
   "source": [
    "c) Animacion del problema utilizando Odenit para la solucion de las ecuaciones diferencia, los hice por hay por que es la manera que se me facilita.(Si no le corre el codigo en el abrir pen_doble.py).\n",
    "Se utilizaron esos parametros para que se vea mejor la simulación.\n"
   ]
  },
  {
   "cell_type": "code",
   "execution_count": null,
   "metadata": {},
   "outputs": [
    {
     "data": {
      "text/html": [
       "<div id=\"glowscript\" class=\"glowscript\"></div>"
      ],
      "text/plain": [
       "<IPython.core.display.HTML object>"
      ]
     },
     "metadata": {},
     "output_type": "display_data"
    },
    {
     "data": {
      "application/javascript": [
       "if (typeof Jupyter !== \"undefined\") { window.__context = { glowscript_container: $(\"#glowscript\").removeAttr(\"id\")};}else{ element.textContent = ' ';}"
      ],
      "text/plain": [
       "<IPython.core.display.Javascript object>"
      ]
     },
     "metadata": {},
     "output_type": "display_data"
    },
    {
     "data": {
      "application/javascript": [
       "if (typeof Jupyter !== \"undefined\") {require.undef(\"nbextensions/vpython_libraries/glow.min\");}else{element.textContent = ' ';}"
      ],
      "text/plain": [
       "<IPython.core.display.Javascript object>"
      ]
     },
     "metadata": {},
     "output_type": "display_data"
    },
    {
     "data": {
      "application/javascript": [
       "if (typeof Jupyter !== \"undefined\") {require.undef(\"nbextensions/vpython_libraries/glowcomm\");}else{element.textContent = ' ';}"
      ],
      "text/plain": [
       "<IPython.core.display.Javascript object>"
      ]
     },
     "metadata": {},
     "output_type": "display_data"
    },
    {
     "data": {
      "application/javascript": [
       "if (typeof Jupyter !== \"undefined\") {require.undef(\"nbextensions/vpython_libraries/jquery-ui.custom.min\");}else{element.textContent = ' ';}"
      ],
      "text/plain": [
       "<IPython.core.display.Javascript object>"
      ]
     },
     "metadata": {},
     "output_type": "display_data"
    },
    {
     "data": {
      "application/javascript": [
       "if (typeof Jupyter !== \"undefined\") {require([\"nbextensions/vpython_libraries/glow.min\"], function(){console.log(\"GLOW LOADED\");});}else{element.textContent = ' ';}"
      ],
      "text/plain": [
       "<IPython.core.display.Javascript object>"
      ]
     },
     "metadata": {},
     "output_type": "display_data"
    },
    {
     "data": {
      "application/javascript": [
       "if (typeof Jupyter !== \"undefined\") {require([\"nbextensions/vpython_libraries/glowcomm\"], function(){console.log(\"GLOWCOMM LOADED\");});}else{element.textContent = ' ';}"
      ],
      "text/plain": [
       "<IPython.core.display.Javascript object>"
      ]
     },
     "metadata": {},
     "output_type": "display_data"
    },
    {
     "data": {
      "application/javascript": [
       "if (typeof Jupyter !== \"undefined\") {require([\"nbextensions/vpython_libraries/jquery-ui.custom.min\"], function(){console.log(\"JQUERY LOADED\");});}else{element.textContent = ' ';}"
      ],
      "text/plain": [
       "<IPython.core.display.Javascript object>"
      ]
     },
     "metadata": {},
     "output_type": "display_data"
    }
   ],
   "source": [
    "from numpy import array, linspace\n",
    "from math import sin, cos, pi\n",
    "from pylab import plot, xlabel, ylabel, show\n",
    "from scipy.integrate import odeint\n",
    "\n",
    "from vpython import sphere, scene, vector, color, arrow, text, sleep, cylinder\n",
    "\n",
    "arrow_size = 0.1\n",
    "\n",
    "#arrow_x = arrow(pos=vector(0,0,0), axis=vector(arrow_size,0,0), color=color.red)\n",
    "#arrow_y = arrow(pos=vector(0,0,0), axis=vector(0,arrow_size,0), color=color.green)\n",
    "#arrow_z = arrow(pos=vector(0,0,0), axis=vector(0,0,arrow_size))\n",
    "\n",
    "R = 0.02 #Radio de la esfera\n",
    "\n",
    "def func (conds, t, g, l): #Función que devuelve valores de theta y omega(arreglo)\n",
    "    dda=conds[4] #La segunda derivada de phi 1\n",
    "    ddb=conds[5] #La segunda derivada de phi 2\n",
    "    dphi1=conds[1]\n",
    "    da=(1/2)*(-(conds[5])*cos(conds[0]-conds[2])-((conds[2])**2)*sin(conds[0]-conds[2]))-(g/l)*sin(conds[0])\n",
    "    dphi2=conds[3]\n",
    "    db=-(conds[4])*cos(conds[0]-conds[2])+((conds[1])**2)*sin(conds[0]-conds[2])-(g/l)*sin(conds[2])\n",
    "    return array([dphi1,da,dphi2,db,dda,ddb], float)\n",
    "\n",
    "#Condiciones iniciales----------------------------------------------------------------------------------------\n",
    "g = 9.81\n",
    "l = 0.1\n",
    "\n",
    "phi1=45*pi/180.\n",
    "a=0.\n",
    "phi2=60*pi/180.\n",
    "b=0.\n",
    "da=0.\n",
    "db=0.\n",
    "\n",
    "initcond = array([phi1,a,phi2,b,da,db])\n",
    "\n",
    "n_steps = 1000 #Número de pasos\n",
    "t_start = 0.   #Tiempo inicial\n",
    "t_final = 15.  #Tiempo final\n",
    "t_delta = (t_final - t_start) / n_steps #Diferencial de tiempo (Paso temporal)\n",
    "t = linspace(t_start, t_final, n_steps) #Arreglo de diferencial de tiempo\n",
    "\n",
    "solu, outodeint = odeint( func, initcond, t, args = (g, l), full_output=True) #Solución de la ecuación diferencial(Parámetros acordes a los definidos en la función) \n",
    "#solu (Matriz de n filas y 2 columnas) es la solución diferencial para cada paso(columnas) de theta y omega\n",
    "\n",
    "phi_1,aa,phi_2,bb,aaa,bbb = solu.T #Devuelve la matriz transpuesta (a cada una de las variables de la izquierda, theta y omega, le define el respectivo vector)\n",
    "\n",
    "# =====================\n",
    "\n",
    "scene.range = 0.22 #Tamaño de la ventana de fondo\n",
    "\n",
    "xp = l*sin(phi1) #Pasa de coordenadas polares a cartesianas\n",
    "yp = -l*cos(phi1)\n",
    "zp = 0.\n",
    "\n",
    "xs=l*(sin(phi1)+sin(phi2))\n",
    "ys=-l*(cos(phi1)+cos(phi2))\n",
    "zs=0.\n",
    "\n",
    "sleeptime = 0.0001 #Tiempo con que se actualiza la posición de la partícula\n",
    "\n",
    "prtcl = sphere(pos=vector(xp,yp,zp), radius=R/2, color=color.red) #Primera esfera\n",
    "prtcls= sphere(pos=vector(xs,ys,zs), radius=R/2, color=color.red)  #Segunda esfera\n",
    "cuerdas1=cylinder(pos=vector(0,0,0),axis=vector(xp,yp,zp),radius=0.001,color=color.white)\n",
    "cuerdas2=cylinder(pos=prtcl.pos,axis=prtcl.pos,radius=0.001,color=color.white)\n",
    "\n",
    "time_i = 0 #Contador que se mueve en el espacio temporal en el que se resolvió la ecuación diferencial\n",
    "t_run = 0  #Tiempo en el que se ejecuta la animación\n",
    "\n",
    "while t_run < t_final: #ANIMACIÓN\n",
    "    prtcl.pos = vector( l*sin(phi_1[time_i]), -l*cos(phi_1[time_i]), zp )\n",
    "    prtcls.pos= vector( l*(sin(phi_1[time_i])+sin(phi_2[time_i])), -l*(cos(phi_1[time_i])+cos(phi_2[time_i])), zs )\n",
    "    cuerdas1.pos=vector(0,0,0)\n",
    "    cuerdas1.axis=prtcl.pos\n",
    "    cuerdas2.pos=prtcls.pos\n",
    "    cuerdas2.axis=prtcl.pos-prtcls.pos\n",
    "    \n",
    "    t_run += t_delta\n",
    "    sleep(sleeptime)\n",
    "    time_i += 1"
   ]
  },
  {
   "cell_type": "code",
   "execution_count": null,
   "metadata": {},
   "outputs": [],
   "source": []
  },
  {
   "cell_type": "code",
   "execution_count": null,
   "metadata": {},
   "outputs": [],
   "source": []
  }
 ],
 "metadata": {
  "kernelspec": {
   "display_name": "VPython",
   "language": "python",
   "name": "vpython"
  },
  "language_info": {
   "codemirror_mode": {
    "name": "ipython",
    "version": 3
   },
   "file_extension": ".py",
   "mimetype": "text/x-python",
   "name": "python",
   "nbconvert_exporter": "python",
   "pygments_lexer": "ipython3",
   "version": "3.5.2"
  }
 },
 "nbformat": 4,
 "nbformat_minor": 2
}
